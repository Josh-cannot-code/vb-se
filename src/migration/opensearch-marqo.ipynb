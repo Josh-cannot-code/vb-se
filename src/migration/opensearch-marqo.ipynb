{
 "cells": [
  {
   "cell_type": "code",
   "execution_count": 2,
   "metadata": {},
   "outputs": [],
   "source": [
    "import marqo\n",
    "from opensearchpy import OpenSearch\n",
    "import dotenv\n",
    "import os"
   ]
  },
  {
   "cell_type": "code",
   "execution_count": 3,
   "metadata": {},
   "outputs": [],
   "source": [
    "dotenv.load_dotenv(\"../.env\")\n",
    "opensearchHost = os.getenv(\"OPENSEARCH_HOST\")\n",
    "opensearchUsername = os.getenv(\"OPENSEARCH_USERNAME\")\n",
    "opensearchPassword = os.getenv(\"OPENSEARCH_PASSWORD\")\n"
   ]
  },
  {
   "cell_type": "code",
   "execution_count": 81,
   "metadata": {},
   "outputs": [
    {
     "name": "stderr",
     "output_type": "stream",
     "text": [
      "/Library/Frameworks/Python.framework/Versions/3.12/lib/python3.12/site-packages/opensearchpy/connection/http_urllib3.py:214: UserWarning: Connecting to https://localhost:9200 using SSL with verify_certs=False is insecure.\n",
      "  warnings.warn(\n",
      "/Library/Frameworks/Python.framework/Versions/3.12/lib/python3.12/site-packages/urllib3/connectionpool.py:1099: InsecureRequestWarning: Unverified HTTPS request is being made to host 'localhost'. Adding certificate verification is strongly advised. See: https://urllib3.readthedocs.io/en/latest/advanced-usage.html#tls-warnings\n",
      "  warnings.warn(\n"
     ]
    },
    {
     "data": {
      "text/plain": [
       "True"
      ]
     },
     "execution_count": 81,
     "metadata": {},
     "output_type": "execute_result"
    }
   ],
   "source": [
    "openSearch = OpenSearch(\n",
    "    hosts=[{\"host\": \"localhost\", \"port\": 9200}],\n",
    "    http_auth=(opensearchUsername, opensearchPassword),\n",
    "    verify_certs=False,\n",
    "    use_ssl=True\n",
    ")\n",
    "openSearch.ping()"
   ]
  },
  {
   "cell_type": "code",
   "execution_count": null,
   "metadata": {},
   "outputs": [],
   "source": [
    "keys = ['channel_name', 'thumbnail', 'description', 'title', 'url', 'transcript', 'id', 'channel_id', 'video_id', 'upload_date']"
   ]
  },
  {
   "cell_type": "code",
   "execution_count": 82,
   "metadata": {},
   "outputs": [
    {
     "name": "stderr",
     "output_type": "stream",
     "text": [
      "/Library/Frameworks/Python.framework/Versions/3.12/lib/python3.12/site-packages/urllib3/connectionpool.py:1099: InsecureRequestWarning: Unverified HTTPS request is being made to host 'localhost'. Adding certificate verification is strongly advised. See: https://urllib3.readthedocs.io/en/latest/advanced-usage.html#tls-warnings\n",
      "  warnings.warn(\n"
     ]
    }
   ],
   "source": [
    "results = openSearch.search(index=\"vb-se-videos\", body={\n",
    "    \"query\": {\n",
    "        \"match_all\": {}\n",
    "    },\n",
    "    \"size\": 100\n",
    "})"
   ]
  },
  {
   "cell_type": "code",
   "execution_count": 83,
   "metadata": {},
   "outputs": [
    {
     "name": "stdout",
     "output_type": "stream",
     "text": [
      "rBvUtY0PfB8\n",
      "yWtPeHIPHmA\n",
      "OBHE6DUoV2w\n",
      "i4eJZhbsVDo\n",
      "tnREQ-YDvQQ\n",
      "hhYDaR4lbH8\n",
      "9IUJNQdTxMk\n",
      "Vc10LQCA5p4\n",
      "wA-voPuufao\n",
      "FcifZrZ_yE4\n",
      "3meQ-1OAoAU\n",
      "33v9AM3uASY\n",
      "f4hqWfp3374\n",
      "BszbfE4z09U\n",
      "pNfFETmGoZU\n",
      "x8tVoriImK8\n",
      "XwuO7RVJvOU\n",
      "WRyTbJ8g7dI\n",
      "SYtVAhpkUg0\n",
      "AO301gSBONE\n",
      "yA7W1MmQH58\n",
      "_hgeaIJMOlg\n",
      "N2X1gA5apcU\n",
      "TUF9qkQBNB8\n",
      "qlu0oeO0Wok\n",
      "sOw0jvsOPNg\n",
      "Q95Ii30naQ4\n",
      "AlamW0EEjbU\n",
      "A9xFCV-fjZ4\n",
      "vtzCSlNg38Q\n",
      "_pqkpfckjO0\n",
      "rQ_JnlpzM6M\n",
      "2lisqjq0-YE\n",
      "7LMV745i0s8\n",
      "X5bkge-w2og\n",
      "kwyZlcd7Ooc\n",
      "oVvPfq0MoaQ\n",
      "NVCJUHrhums\n",
      "_nqmQ9YAtD8\n",
      "5QM41ht1aHg\n",
      "90ureF8xO9Y\n",
      "iUIepvay1qg\n",
      "Jjz3lGV6Tuw\n",
      "Br9EAmr2oNQ\n",
      "1Mxi2DvIvZs\n",
      "SRPs-I2FuCY\n",
      "LK0WBtTucL0\n",
      "2KDmXQDd1S4\n",
      "zcwkOFSrLFI\n",
      "5SpsnjF1VFg\n",
      "KTjC4n85ajw\n",
      "uKj6PxBCdpM\n",
      "xM3_ltur0lo\n",
      "PkoBoF9FDXg\n",
      "capBdfEqkdM\n",
      "YfPwGf6jC80\n",
      "_86jrQV5FCI\n",
      "nIvrDsnKuQ8\n",
      "n4-EAiNewsQ\n",
      "V6Lz97pkIBc\n",
      "nkVQrNQvL5c\n",
      "0tIErW4tybM\n",
      "l4-kItwN71c\n",
      "M-24RP_-X-U\n",
      "eBPAJERpn6Q\n",
      "QghbHQq6eHw\n",
      "oAEewFj_-dg\n",
      "91jkq2_jdOA\n",
      "9NKqkQQ_qAc\n",
      "7kRDYwtE10Y\n",
      "oVdypPMx2m0\n",
      "M5oYZLJj7mo\n",
      "fQFzT3Nn91I\n",
      "WTarddlL5UU\n",
      "-_xq-JdBNak\n",
      "sNS3o1Hpa78\n",
      "tMhgw5SW0h4\n",
      "1dRgCsZ1q7g\n",
      "RN68qKBttgQ\n",
      "e02dl7NcxQI\n",
      "7dbUJYUWdS8\n",
      "b_EqEGc0S60\n",
      "7j2fXWfElZA\n",
      "jQZliRwZMeE\n",
      "zxErbW0hM2M\n",
      "_f9Rkdg7BR8\n",
      "BL829Uf2lzI\n",
      "VT6rGBynkt4\n",
      "v6vNYWgUAMY\n",
      "kqPKNksl9hk\n",
      "wCBLmhh2qPE\n",
      "DmzaZBAaqJw\n",
      "d9WzC2baIW4\n",
      "UOWTeQiaFv0\n",
      "3ONEWpcTUQc\n",
      "T-Xdobl0ICA\n",
      "haaETX4XQeA\n",
      "NPjFnQRgDDE\n",
      "VZjk28k0n0o\n",
      "MLBYtwu0gkY\n"
     ]
    }
   ],
   "source": [
    "marqoDocs = []\n",
    "for res in results[\"hits\"][\"hits\"]:\n",
    "    print(res[\"_source\"][\"video_id\"])\n",
    "    doc = res[\"_source\"]\n",
    "    marqoDoc = {\n",
    "        \"_id\": doc[\"video_id\"],\n",
    "        \"channel_id\": doc[\"channel_id\"],\n",
    "        \"channel_name\": doc[\"channel_name\"],\n",
    "        \"title\": doc[\"title\"],\n",
    "        \"description\": doc[\"description\"],\n",
    "        \"thumbnail\": doc[\"thumbnail\"],\n",
    "        \"url\": doc[\"url\"],\n",
    "        \"transcript\": doc[\"transcript\"],\n",
    "        \"upload_date\": doc[\"upload_date\"]\n",
    "    }\n",
    "    marqoDocs.append(marqoDoc)"
   ]
  },
  {
   "cell_type": "code",
   "execution_count": 63,
   "metadata": {},
   "outputs": [
    {
     "name": "stdout",
     "output_type": "stream",
     "text": [
      "[{'_id': 'rBvUtY0PfB8', 'channel_id': 'UCGaVdbSav8xWuFWTadK6loA', 'channel_name': 'vlogbrothers', 'title': 'Why Did Fukushima Explode?', 'description': \"Donate: http://american.redcross.org/site/PageServer?pagename=ntld_main&s_src=RSG000000000&s_subsrc=RCO_FrontPagePanel\\n\\nIn which Hank explains nuclear power and the situation at the Fukushima Daiichi power plant in Japan. \\n\\nIn short, fission products continually decaying in both active and spent fuel rods create enough heat to melt themselves. The coolant systems that would prevent this from happening were disabled by the tsunami. Cracks in the fuel rods created an environment allowing hydrogen to form, which concentrated and then exploded several times destroying both the primary and secondary containment structures at at least one reactor. \\n\\nThe result is that the reactor needs to remain cooled or else radiation from the meltdown will be released to the environment in significant quantities. The people working to keep the reactor from overheating are risking their lives to do so, and we all hope they will be able to stabilize the reactor without harm.\\n\\n\\nHERE ARE A LOT OF LINKS TO NERDFIGHTASTIC THINGS:\\n\\nShirts and Stuff: http://dftba.com/artist/30/Vlogbrothers\\nHank's Music: http://dftba.com/artist/15/Hank-Green\\nJohn's Books: http://amzn.to/j3LYqo\\n\\n======================\\n\\nHank's Twitter: http://www.twitter.com/hankgreen\\nHank's Facebook: http://www.facebook.com/hankimon\\nHank's tumblr: http://edwardspoonhands.tumblr.com\\n\\nJohn's Twitter: http://www.twitter.com/realjohngreen\\nJohn's Facebook: http://www.facebook.com/johngreenfans\\nJohn's tumblr: http://fishingboatproceeds.tumblr.com\\n\\n======================\\n\\nOther Channels\\nCrash Course: http://www.youtube.com/crashcourse\\nSciShow: http://www.youtube.com/scishow\\nGaming: http://www.youtube.com/hankgames\\nVidCon: http://www.youtube.com/vidcon\\nHank's Channel: http://www.youtube.com/hankschannel\\nTruth or Fail: http://www.youtube.com/truthorfail\\n\\n======================\\n\\nNerdfighteria\\nhttp://effyeahnerdfighters.com/\\nhttp://effyeahnerdfighters.com/nftumblrs\\nhttp://reddit.com/r/nerdfighters\\nhttp://nerdfighteria.info/\\n\\nA Bunny\\n(\\\\(\\\\\\n( - -)\\n((') (')\", 'thumbnail': 'https://i.ytimg.com/vi/rBvUtY0PfB8/hqdefault.jpg', 'url': 'https://www.youtube.com/watch?v=rBvUtY0PfB8', 'transcript': ' Good morning, John. Suddenly, along with the disaster in Japan,\\nit has become kind of necessary to understand a little bit about how nuclear reactors work.\\nAnd so I hope that you will excuse me postponing my Thoughts from Haiti and instead giving\\nin direction as to how nuclear reactors work and how that pertains to the situation in\\nFukushima right now. So first things first, you are welcome to\\nsay \"nookyoolar\" but you should know that there will always be a certain percentage\\nof the population who will assume that you are a dumbass. I personally have no problem\\nwith \"nookyoolar\" but if you want fewer people to think you\\'re an idiot, probably, you should\\njust switch over to nuclear. Now for terminology! One: nuclear, pertaining\\nto the nucleus, which is the center of the atom that contains the protons and the neutrons. Nuclear reaction: a reaction that changes\\nthe nucleus. This happens either by an atom splitting apart or by two atoms fusing together. Radiation is any particle or wave that goes\\nthrough the air or goes through other things besides the air, like your body. But generally,\\nwhen we\\'re talking about nuclear radiation, we\\'re talking about ionizing radiation which\\nis the kind of radiation that has enough energy to ionize an atom. Radiation can be harmless\\nbut it can also be not harmless. Radioactive decay: this is important, it will\\ncome up again soon - is when an unstable atom loses energy by emitting radiation. Fission: when an atom breaks apart into two\\nor more atoms that are an entirely different kind of atom than the original atom. During\\nfission a great deal of radiation and energy is expelled and the fission products, which\\nare whatever is left over, are always lighter than the original atom. Now where did that\\nmass go? It was converted into energy in a way that is described by a very famous equation. Notice, in that very famous equation, that\\nwe are multiplying by the speed of light, squared. You may have noticed, the speed of\\nlight... very big number. And so, when you convert a tiny, tiny amount of mass into energy,\\nyou get a great deal of energy, which is why - something in my ear - a pound of Uranium\\n235 can be converted into as much energy as about a million gallons of gasoline. Speaking of which, Uranium 235 is a rare isotope\\nof uranium that has very unique properties. First very unique property: when you hit it\\nwith a neutron - it doesn\\'t even have to be a special neutron - it fissions. Second, when\\nUranium 235 splits, it creates more neutrons which then go on to hit more atoms of Uranium\\n235, which then go on to create more neutrons, which then goes on to create a chain reaction\\nthat can be turned into either a nuclear bomb or a nuclear energy reactor. So in a nuclear power plant, you have Uranium\\n235 and you have it mixed into these ceramic pellets. And through the majesty of science,\\nthese little guys can never explode like a nuclear bomb. These pellets are placed into\\ntubes of zirconium alloy that is extremely strong and heat-resistant. That tube, with\\nthe uranium pellets in it, is what we call a fuel rod. When a bunch of these rods are\\nplaced together, the uranium begins to fission, creating energy and radiation and neutrons\\nand fission products, which are the stuff that\\'s left over after the uranium splits\\napart. All of this stuff is what is called the reactor.\\nAnd it\\'s encased inside a thick steel box, like eight-inches-thick steel. That steel\\nbox is called your primary containment, and then that is inside of a giant concrete and\\nsteel box which is your secondary containment. So in the reactor, the fuel rods are hot,\\nwater is pumped through the fuel rods, it turns into steam, the steam drives a turbine,\\nthe turbine creates electricity, and that is how we get electricity from nuclear power. Now if you want to turn it off, we have what\\nare called control rods. Control rods absorb neutrons. You stick \\'em in between the fuel\\nrods, and it absorbs all the neutrons. No neutrons are left to continue the chain reaction,\\nand the reaction stops. Ideally, that would be where it ends, but it\\'s not, because we\\nhave those fission products. All those fission products leftover from the\\nuranium splitting are unstable isotopes, and this is where we come back to radioactive\\ndecay. Because they are unstable isotopes, they decay. And as they decay, they produce\\nradiation and energy. And that energy becomes heat, and it\\'s not nearly as much heat as\\nyou get at the center of a reactor when it\\'s running, but it is still a lot of heat. In\\nfact, it is so much heat that if you don\\'t cool it down, the fuel rods themselves will\\neventually break and you will have what we call a meltdown. And this is what happened in Fukushima. As\\nsoon as the earthquake happened, the control rods slammed into place, the reaction stopped,\\nbut we still had the fission products creating a lot of heat. The grid power immediately got taken down\\nby the earthquake, and the backup diesel generators, they got wiped out by the tsunami. And so\\nthere was nothing left to power the coolant system, the system that keeps water running\\nthrough the reactor so that the fuel rods don\\'t get too hot, they don\\'t break, and they\\ndon\\'t melt down. So it appears that some of the fuel rods did\\nbreak. That created an environment, combined with the heat, that could actually split water\\ninto hydrogen and oxygen, creating hydrogen, which we all know is explosive. And we\\'ve\\nseen the effects of that in a series of hydrogen explosions throughout the plant that had damaged\\nboth primary and secondary containment of at least one of the reactors. Additionally, just like the reactor, when\\nit\\'s turned off, still produces heat we have what are called spent fuel rods. These are\\nfuel rods that no longer contain any uranium, but they do contain all of those great radioactive\\nfission products. Spent fuel rods can spend years at the bottom of giant pools while we\\nwait for the radioactive materials in them to decay enough that they are not producing\\nso much heat that they cannot be dealt with in a different way. And the same way that\\nthe cooling system for the reactor isn\\'t working, the cooling for those spent fuel rod pools\\nis also not working. There\\'s another difference between the reactor\\nrods and the spent fuel rods, and that is that the spent fuel rods do not have a primary\\ncontainment vessel. So there is less protection, and if the water in those pools boils off,\\nthe spent fuel rods could melt down, creating a fire that would spew radioactive dust into\\nthe air, and it would be bad. The men and women who remain at the site trying\\nto keep the situation under control are very literally risking and possibly sacrificing\\ntheir lives for their country. Those men and women are made of some tough stuff and I wish\\nthem a great deal of luck in getting this under control. You\\'ll notice that throughout this video I\\nhave not been making judgments about whether or not we should be using nuclear power. That\\'s\\nbecause I simply do not know. I can see and understand both sides of this argument very\\nwell. I do not know whether or not the benefits\\nof nuclear power outweigh the risks. I do know that most of the ways that we generate\\nthe majority of our power now are dangerous and bad, but that we need electricity for\\nour society to function and for people to be happy and healthy and safe. Quite frankly, I think it\\'s kind of ridiculous\\nthat so many people seem to have made up their minds about this issue when obviously it\\'s\\na very complicated one. It\\'s almost as if our society values opinions more than it values\\nknowledge. I can only hope that this situation simply\\ndoesn\\'t get any more severe than it already is, and that the people working at that plant\\nand the people living nearby are able to safely return to their homes in a relatively short\\namount of time. And I hope that the people who watch this video can understand a little\\nbit better the situation and, uh, not panic unduly. John, I\\'ll see you on Friday.', 'upload_date': '2011-03-16T00:00:00Z'}, {'_id': 'yWtPeHIPHmA', 'channel_id': 'UCGaVdbSav8xWuFWTadK6loA', 'channel_name': 'vlogbrothers', 'title': 'The General Crisis', 'description': \"In which John gets curious about the last time global human population declined and ends up learning about a period of human history called The General Crisis.\\nThanks to Our World in Data for being such an amazing source of information about life on Earth: https://ourworldindata.org/ And thanks to Hannah Ritchie for answering my question!\\n\\nLearn more about the general crisis: https://en.wikipedia.org/wiki/The_General_Crisis\\n\\n----\\nSubscribe to our newsletter! http://nerdfighteria.com/newsletter/ \\nAnd join the community at http://nerdfighteria.com  http://effyeahnerdfighters.com\\nHelp transcribe videos - http://nerdfighteria.info\\nJohn's twitter - http://twitter.com/johngreen\\nJohn's tumblr - http://fishingboatproceeds.tumblr.com\\nHank's twitter - http://twitter.com/hankgreen\\nHank's tumblr - http://edwardspoonhands.tumblr.com\", 'thumbnail': 'https://i.ytimg.com/vi_webp/yWtPeHIPHmA/maxresdefault.webp', 'url': 'https://www.youtube.com/watch?v=yWtPeHIPHmA', 'transcript': ' Good morning Hank, it\\'s Tuesday. I recently became intensely interested in a question. What was the most recent year in which the overall global population of humans declined? I don\\'t even remember why I was initially curious about this, but I was and I couldn\\'t figure it out, despite some pretty deep googling and a visit to the library So eventually I asked Max Roser who works at my favorite website Our World in Data. But he didn\\'t know either. One of his colleagues, however, Hannah Richie did find an answer. The last time the global human population decreased year over year was 1648, and the story of 1648 turns out to be really interesting and also like relevant. Ok, so the global human population actually decreased every year between 1608 and 1648, part of a period sometimes known as \"The General Crisis\" which I would say is an example of historians being terrible at naming things Except that it was a rather general crisis. From Africa to Asia to Europe to the Americas there was quite a lot of crisis going on. Which is a little weird, because overall, the human species was getting much wealthier and better connected. Like for instance, there was much more silver because European empires, especially the Spanish Empire, were extracting it from colonies in the Americas. There was also a much broader range of food available, rice and wheat had just come to the Americas, and everything from pineapples to cassava to potatoes had come to afro-eurasia. And you would think with more money and more food there would be more people, but no. For one thing the Columbian Exchange also brought devastation perhaps more than 90% of Native Americans were killed in the centuries after Europeans arrived. Mostly from diseases that were new to the Americas like smallpox and diphtheria. That population decline began around 1500 but lasted throughout The General Crisis and then there was the Atlantic slave trade which was growing throughout The General Crisis with horrific consequences of its own. Around 15 percent of Africans died in slave ships on the journey to the Americas and those who didn\\'t saw their life expectancies severely diminished and I think it\\'s worth noting that many of the crops that relied on slave labor like coffee and tobacco were not necessary to sustain human life. They were basically luxury goods, so maybe more access to luxury goods indicated that humanity was getting wealthier, but that doesn\\'t necessarily mean that on average human life was getting better. In fact, despite the influx of wealth, European populations were also declining, largely due to the 30 Years War. One of the longest and deadliest wars in European history. Which is really saying something. The war killed through combat and famine around 20% of people in what is now Germany and as many as a third of people in what are now Poland and Lithuania. Meanwhile Spain, which had become phenomenally wealthy from all that silver, defaulted on its debts repeatedly during the general crisis because they didn\\'t understand inflation, and all that silver caused a lot of it. but the single biggest contributor to 17th century population decline was the collapse of the Ming Dynasty in China. Between 1600 and 1644 when the Qing dynasty began, China\\'s population decreased by 50 million people and that was also partly due to humanity\\'s newfound abundance of silver. The Ming government required people to pay taxes in silver, which meant more people had to spend more hours working at making goods that could be sold for silver, which meant lower agricultural yields. Also the Ming Dynasty, like Spain, failed to understand inflation all of which led to famine. One more thing that made The General Crisis so general and crisis-e, at the time earth experienced significant climate change. It\\'s sometimes called the Little Ice Age global temperatures dropped on average around one degree Celsius, which also contributed to famines, but don\\'t worry It\\'s not like oh It is like Hank since the general crisis humanity has experienced its longest ever run of population growth, increased life expectancy ,and decreased poverty but the early 17th century is a reminder that progress is never simple or universal or guaranteed. It\\'s a reminder that a changing climate can fuel global instability and that growing connectivity and wealth is only good news for humans. Once we learn to live with and share that growth. Hank, I\\'ll see you on Friday.', 'upload_date': '2018-07-10T00:00:00Z'}, {'_id': 'OBHE6DUoV2w', 'channel_id': 'UCGaVdbSav8xWuFWTadK6loA', 'channel_name': 'vlogbrothers', 'title': 'Beckoning Lovely', 'description': \"In which John talks about his big break way back in 2002, writing, reading, the extraordinary work of Amy Krouse Rosenthal, and her new project. Amy will be at the Bean on 8/9/16 from 8:09 AM to 8:09 PM; you'll know it's her because of the yellow umbrella. More info at the video invitation: https://www.youtube.com/watch?v=lspdUvU5lnE&feature=youtu.be\\n\\nGet Textbook Amy Krouse Rosenthal at indiebound: http://www.indiebound.org/book/9781101984543?aff=PenguinGroupUS or Amazon: https://www.amazon.com/Textbook-Amy-Krouse-Rosenthal/dp/1101984546/ref=sr_1_1?ie=UTF8&qid=1470167131&sr=8-1&keywords=textbook+amy+krouse+rosenthal\\n\\nHank's big news is discussed in this week's episode of Dear Hank and John: https://soundcloud.com/dearhankandjohn/056-is-it-going-to-throw-up\\n\\n----\\nSubscribe to our newsletter! http://nerdfighteria.com/newsletter/ \\nAnd join the community at http://nerdfighteria.com  http://effyeahnerdfighters.com\\nHelp transcribe videos - http://nerdfighteria.info\\nJohn's twitter - http://twitter.com/johngreen\\nJohn's tumblr - http://fishingboatproceeds.tumblr.com\\nHank's twitter - http://twitter.com/hankgreen\\nHank's tumblr - http://edwardspoonhands.tumblr.com\", 'thumbnail': 'https://i.ytimg.com/vi/OBHE6DUoV2w/maxresdefault.jpg', 'url': 'https://www.youtube.com/watch?v=OBHE6DUoV2w', 'transcript': ' Good morning, Hank. It\\'s Tuesday. I\\'ve been thinking a lot about my friend Amy Krouse Rosenthal, who, Hank, has written a lot of amazing picture books that I\\'ll be sending you in the coming months. She also wrote the brilliant book, Encyclopedia of an Ordinary Life, and, as it happens, gave me one of my first big breaks. By the way, Hank, this video is like Plato\\'s theory of the soul; it comes to you in three parts. Part One: My Big Break So way, way back in 2002, I was working at Booklist Magazine, and Amy emailed me in a professional capacity and then I replied in a mostly professional capacity, while also acknowledging that I was a massive fan of hers. We struck up a correspondence, and then one day she asked me if I had ever written anything about two minutes long that might work for WBEZ, Chicago\\'s public radio station. I didn\\'t have anything two minutes long, but I went home that night, wrote a little essay, and then Amy invited me in to record it. And over the next few years, I got to record dozens of essays for WBEZ, and a few for the national NPR show, All Things Considered, and that was definitely very helpful to me when I was trying to get my foot in the publishing door to sell Looking For Alaska. But looking back, getting me on the radio wasn\\'t actually the big break that Amy gave me. The real break was that, as both a writer and a person, Amy taught me that for stories to work, readers and writers must both be generous. Like, when I read Persuasion as a 15 year old and declared it to be crap, the problem was not with Jane Austen. I wasn\\'t reading generously, I was looking for things to dislike, which meant that I was going to find them, even if they weren\\'t there. And writing is the same way, I think what makes Amy\\'s books so special is that she\\'s not trying to wow or impress the reader, she\\'s trying to make a gift for them. Okay, Part Two: 8/8/08. So, Hank, flash forward a few years to August 8th, 2008. That was a big day in our lives, Hank. We had our first huge nerdfighter gathering, assisted by the fact that it happened to coincide with the Harry Potter convention. That was also the day I first met Rosianna, who at the time was a high school student, but is now my production partner in movie stuff. And that evening, Amy hosted an event at The Bean in Chicago\\'s Millennium Park called the Beckoning of Lovely. It was a really special gathering, and a lot of that day has stuck with me, but I think what stuck with me the most is being in the dusk at Millennium Park, with hundreds of other people and singing a song that English soldiers sang a hundred years ago to the tune of Auld Lang Syne: We\\'re here because, we\\'re here because, we\\'re - You\\'re not watching this video to hear me sing. Point being: The Beckoning of Lovely was amazing. Okay, Part Three: 8/9/16 So it\\'s now eight years later and Amy has just finished a new book, Textbook, which is a companion to Encyclopedia of an Ordinary Life. She wrote, \"It\\'s not a prequel or a sequel; hopefully it\\'s an equal.\" The book comes out next Tuesday and she\\'s hosting another gathering at The Bean on 8/9/16, and if you live near Chicago, you should really stop by. You can find out more by watching this video or there is a link in the dooblydoo below. But it\\'s gonna be special and fascinating and generous like everything Amy does. Also, even if you don\\'t live in Chicago, I hope you\\'ll join me in reading Textbook. There are links to get it in the dooblydoo. Hank, I think we all have people in our lives whose generosity has lifted us up or helped hold us together. And I guess I\\'ve just been thinking a lot about those people in the context of your big news, Hank. Nerdfighters, I\\'d love to hear about who those people have been in your lives in the comments. I know it\\'s easy to forget amidst the torrent of bad news that we are here for each other and lucky to have each other. But, we are. So thank you. Hank, I will actually see you tomorrow, because it will be Esther Day. Speaking of which, I love you.', 'upload_date': '2016-08-02T00:00:00Z'}, {'_id': 'i4eJZhbsVDo', 'channel_id': 'UCGaVdbSav8xWuFWTadK6loA', 'channel_name': 'vlogbrothers', 'title': 'EVERY VLOGBROTHERS PUNISHMENT!', 'description': 'So I got a little confused about who owed what punishments and then we went a little overboard and with the help of a team of Nerdfighting researchers rooted out the cause and effect of EVERY SINGLE PUNISHMENT ON VLOGBROTHERS SINCE JANUARY OF 2007!\\n\\nPlaylist of all those videos here: https://www.youtube.com/playlist?list=PL647FA7AEF5D5787A\\n\\nThe thing I realized while doing this is that we have been doing this for a very....very....very long time. Holy monkey butts...a long time.', 'thumbnail': 'https://i.ytimg.com/vi/i4eJZhbsVDo/maxresdefault.jpg', 'url': 'https://www.youtube.com/watch?v=i4eJZhbsVDo', 'transcript': ' Good morning John. So in your last video, you were like, \\'You\\nowe us a punishment!\\' and I was like, \\'I do?\\' We\\'ve been doing this for a long time, and\\nthere have been a lot of punishable infractions, so it\\'s getting kinda confusing. Luckily, a bunch of nerdfighters, led by the\\nindestructible Valerie2776, have created a spreadsheet in which all of our punishments\\nand the reasons why we had them have been listed. And now, as a reminder, and also a history\\nlesson, and also to figure what the heck is going on, I am converting the spreadsheet\\ninto a video, and because I do not wanna get punished I\\'m going very fast. On January 1st, 2007, we created this channel\\nwith three rules: 1) You have to make a video on your day. 2) The video can\\'t be longer than four minutes\\nlong. and 3) Hank and John Green cannot communicate\\ntextually. The first rule was broken that very same month\\nwhen John, you CCed me on an email to someone else, which counted as textual communication. You had to wax your chin. John: AAAAUAAAHHHH! Hank: Later, I did the exact same thing, CCing\\nJohn, and had to re-enact three of my most embarrassing moments with sock puppets. I also once wrote \\'See you tomorrow\\' in text\\nin the end of a video. Ugh! As a result, I had to go out on the streets\\nof Missoula and try to give away Peeps, which is how I met Kurt the Punk-Rock Nerdfighter. In July, I just IMed you. And then, you replied, so we both got punished. We did a shared punishment, both dressing\\nup like the most embarrassing picture we could find from high school. In March, you missed a video because you were\\nhospitalized and you accidentally replied to me on a forum, and so you had to eat a\\nblenderized Happy Meal, wax your legs, and lick a cat. I\\'m not sure why there were three, possibly\\nsomething about donations to Daniel Biss\\'s campaign. Finally, in December of 2007 during the first\\nProject for Awesome, I replied to a comment you left on a Project for Awesome video, and\\nthus had to blend together Peeps and Strawberry Hill flavored citrus wine and drink it while\\nplaying a show to six people, none of whom knew me, except for my wife. My first show ever! For the rest of Vlogbrothers, we abolished\\nthe textual communication rule, so now John and I can email each other, which is helpful. We\\'ve also altered the schedule in various\\ndifferent ways and made time limit exemptions for educational videos, videos with montages\\nin them, and videos that are 4 minutes and 1 second long because YouTube adds a second. Why, YouTube? Why do you add a second? In April 2008, I made a video that was 14\\nseconds too long; I don\\'t know why, I just, ah, messed up that week. As a result, I had to sing the song \\'World\\nWide Web Girl\\' with pigtails in my hair. Then in October, I accidentally put 30 seconds\\nof nothingness on the end of my video, which resulted in me dancing around my house dressed\\nlike Carrie Bradshaw from Sex and the City with singing Rick Astley\\'s \\'Never Gonna Give\\nYou Up\\'. [music/singing \"never gonna make you cry,\\nnever gonna say goodbye\"] The infamous Hankroll. In June of 2008, you missed a video, and had\\nto eat a sandwich made out of lard and protein meal. Bleurgh! Then in November, I made a video that was\\n2 seconds too long and had to spend 15 hours in a Target. [Hank ventriloquizing cans] Ahh! Ahh! Ahh! Ahhhhh! During VidCon 2010, both of us failed to upload\\nour videos. The videos in response to that were your amazing\\n\\'Fitness for Nerds\\' video and my Katniss Everdeen make-up tutorial. In 2011 a long-standing agreement to be punished\\nif Helen Hunt ever saw my \\'Helen Hunt\\' video came to fruition. She sent me a tweet, and then I had to hump\\nmy entire town. In 2012, there were no punishments, but there\\nmay have been some punishable infractions, I\\'ll get to that soon. In 2013, the very first punishment dealt to\\nsomeone who wasn\\'t you or me, was dealt to Grace Helbig for making a video longer than\\n4 minutes during your paternity leave. It was not entirely clear whether the rules\\napplied to her; she slapped herself anyway. And John, in October of 2013, you made a longer\\nthan 4 minute video that was deemed to not be educational enough, and so you were punished. You ate slobber carrots, made by your son. Here\\'s where it gets confusing, and someone\\nwill eventually clear this up, but it is very clear in 2012 we both owed punishments. I can\\'t figure out what they were for, but\\nI know that there were punishments, because on October 28th, you made a bet with Nerdfighteria. You said that both you and I had outstanding\\npunishments, but if we could get to a thousand videos before Nerdfighteria loaned a million\\ndollars through Kiva.org, those punishments would be wiped clean. However, if they got to a million dollars\\nfirst, we would double our punishments; we would both have two. Of course, never underestimate Nerdfighteria,\\na million dollars was indeed loaned. And so we each had two punishments. We absolved one of them, by doing six videos\\nin a week, three each, which leaves, finally, one punishment each. It was your own doing, John; you can\\'t complain. John, I got a really good idea from the comments\\nfor your video about what my punishment\\'s gonna be, so everybody, leave comments for\\nwhat John\\'s gonna do in his punishment! And John, I will see you on Tuesday.', 'upload_date': '2014-07-18T00:00:00Z'}, {'_id': 'tnREQ-YDvQQ', 'channel_id': 'UCGaVdbSav8xWuFWTadK6loA', 'channel_name': 'vlogbrothers', 'title': 'Humpy Hank', 'description': \"In which animations of Hank humping an astonishing variety of people and animals (and himself) are collected into a single music video for your enjoyment and Hank's embarrassment.\\n\\nLet this be a lesson, friends: Never put video of yourself humping on the Internet or the Internet will make you pay.\\n\\nHumpy Hank invented by the great Mattie Boosh: http://mattieboosh.tumblr.com/\\nThe Humpy Hank tubmlr: http://www.humpyhank.tumblr.com\\nSubscribe to Karen: http://www.youtube.com/xperpetualmotion\\nBuy Hank's album with this song on it: http://dft.ba/-kq5\\n\\n\\nHERE ARE A LOT OF LINKS TO NERDFIGHTASTIC THINGS:\\n\\nShirts and Stuff: http://dftba.com/artist/30/Vlogbrothers\\nHank's Music: http://dftba.com/artist/15/Hank-Green\\nJohn's Books: http://amzn.to/j3LYqo\\n\\n======================\\n\\nHank's Twitter: http://www.twitter.com/hankgreen\\nHank's Facebook: http://www.facebook.com/hankimon\\nHank's tumblr: http://edwardspoonhands.tumblr.com\\n\\nJohn's Twitter: http://www.twitter.com/realjohngreen\\nJohn's Facebook: http://www.facebook.com/johngreenfans\\nJohn's tumblr: http://fishingboatproceeds.tumblr.com\\n\\n======================\\n\\nOther Channels\\nCrash Course: http://www.youtube.com/crashcourse\\nSciShow: http://www.youtube.com/scishow\\nGaming: http://www.youtube.com/hankgames\\nVidCon: http://www.youtube.com/vidcon\\nHank's Channel: http://www.youtube.com/hankschannel\\nTruth or Fail: http://www.youtube.com/truthorfail\\n\\n======================\\n\\nNerdfighteria\\nhttp://effyeahnerdfighters.com/\\nhttp://effyeahnerdfighters.com/nftumblrs\\nhttp://reddit.com/r/nerdfighters\\nhttp://nerdfighteria.info/\\n\\nA Bunny\\n(\\\\(\\\\\\n( - -)\\n((') (')\", 'thumbnail': 'https://i.ytimg.com/vi_webp/tnREQ-YDvQQ/maxresdefault.webp', 'url': 'https://www.youtube.com/watch?v=tnREQ-YDvQQ', 'transcript': ' Good morning, Hank. It\\'s Friday. Quick warning. Uh, today\\'s video is not suitable\\nfor young children. Or anyone. So, Hank, you recently made a video in which\\nyou briefly humped Google. Well, a couple days later, nerdfighter extraordinaire Mattie\\nBoosh posted you humping the TARDIS on his Tumblr and the Humpy Hank phenomenon was born. Hank, at a historical moment like this, I\\nam reminded of the great poet, William Butler Yeats, who famously wrote, \"And what rough\\nHumpy Hank, his hour come round at last, slouches towards Youtube, to be born?\" Nerdfighter Karen Kavett made that music video.\\nShe\\'s awesome; everyone should subscribe to her. Hank, I have to go to Amsterdam. I\\'ll\\nsee you on Monday.', 'upload_date': '2011-04-15T00:00:00Z'}, {'_id': 'hhYDaR4lbH8', 'channel_id': 'UCGaVdbSav8xWuFWTadK6loA', 'channel_name': 'vlogbrothers', 'title': 'INTERNET SENSATION B$%CH', 'description': \"In which Hank dissects a local news report about himself (ok, mostly about John).\\n\\n\\nHERE ARE A LOT OF LINKS TO NERDFIGHTASTIC THINGS:\\n\\nShirts and Stuff: http://dftba.com/artist/30/Vlogbrothers\\nHank's Music: http://dftba.com/artist/15/Hank-Green\\nJohn's Books: http://amzn.to/j3LYqo\\n\\n======================\\n\\nHank's Twitter: http://www.twitter.com/hankgreen\\nHank's Facebook: http://www.facebook.com/hankimon\\nHank's tumblr: http://edwardspoonhands.tumblr.com\\n\\nJohn's Twitter: http://www.twitter.com/realjohngreen\\nJohn's Facebook: http://www.facebook.com/johngreenfans\\nJohn's tumblr: http://fishingboatproceeds.tumblr.com\\n\\n======================\\n\\nOther Channels\\nCrash Course: http://www.youtube.com/crashcourse\\nSciShow: http://www.youtube.com/scishow\\nGaming: http://www.youtube.com/hankgames\\nVidCon: http://www.youtube.com/vidcon\\nHank's Channel: http://www.youtube.com/hankschannel\\nTruth or Fail: http://www.youtube.com/truthorfail\\n\\n======================\\n\\nNerdfighteria\\nhttp://effyeahnerdfighters.com/\\nhttp://effyeahnerdfighters.com/nftumblrs\\nhttp://reddit.com/r/nerdfighters\\nhttp://nerdfighteria.info/\\n\\nA Bunny\\n(\\\\(\\\\\\n( - -)\\n((') (')\", 'thumbnail': 'https://i.ytimg.com/vi/hhYDaR4lbH8/hqdefault.jpg?sqp=-oaymwEmCOADEOgC8quKqQMa8AEB-AG-AoAC8AGKAgwIABABGH8gSCguMA8=&rs=AOn4CLCjCW1kCBZhOrsJeI6cH6BV6FUpSg', 'url': 'https://www.youtube.com/watch?v=hhYDaR4lbH8', 'transcript': \" if you're a fan of YouTube you probably know who these guys are two brothers who are an internet sensation internet [Music] sensation it says so right there internet sensation everyone on YouTube watches us there's no one who doesn't obviously I'm enough of an Internet Sensation that I've just taped several pieces of blue construction paper behind me so I can do blue screen stuff in general I should probably say that I'm not a very big fan of the local news I kind of feel like it would be cool if more people watch this video on YouTube than they did on television just as you know a way to prove that we are better than they are but I got to say I kind of like this local news report because it's about me actually now that I think about it's kind of mostly about John H nonetheless though I did enjoy this report there are several factual inconsistencies that I would like to comment on a couple of other things that aren't factual inconsistencies that I would also like to comment on and so I hope you'll enjoy this broadcast from Chicago's local news and Susan Carlson doing great reportage and a little bit of commentary from me under with the joke and as CBS 2 Susan Carlson reports nerds are rejoicing Orlando natives John and Hank Green agreed to stop texting each other last year texting makes it sound like we agreed to stop text messaging each other last year which is not the case at all textual communication is different from texting Susan and instead communicate only through video blog or Vlog I'm at Mom and Dad's house the last residents in the United States of America with dial up oh my God John you used to talk so slow to their surprise the Public Communication resulted in a YouTube sensation today 13.5 million viewers 13 n n million viewers what was what was I doing no have logged on to watch their videos which have an underlying message I think that we're trying to bring people who feel like they're on the outside internet celebrity internet celebrity I think that's hilarious into a place where they feel like they're on the inside John was already a successful author with a teen set but his Fame skyrocketed through the internet having previously lived in Chicago he was back at one of his old stomping grounds Today l streen the Harold Washington Library promoting his books the enthusiastic crowd included about 400 young adults some of whom waited over 2 hours to meet the brothers Mrs pink hair and dftv trucker cap I don't remember your name and I'm sorry for that but you win today's non-existent nerd fighter prize because you are awesome their fans referred to as nerd Fighters now Susan I am glad that you summoned up the courage to actually speak the word nerd Fighters but really the Velociraptor air quotes were not necessary nerd Fighters nerd Fighters nerd fighter aren't obsessed with Britney Spears or Justin Timberlake just to be clear that is not entirely true I kind of have a JT thing instead they've latched on to someone they say they can relate to having somebody that has so much in common with me like valuing reading and education and thinking it's cool ner Fighters they're very real and they understand people ner Fighters as a parent the message that they're sending is a real strong one about young people in today's americ and growing up as individuals parental Fighters after a year of video messages only the brothers are communicating in other ways again but they say the Vlogs will continue we'll do it for as long as people will watch it I think John you and I didn't discuss that little bit before you announced it to the world but you know okay Susan Carlson CBS 2 news this is Hank Green reporting for wwtf news nerd fighteria\", 'upload_date': '2008-08-21T00:00:00Z'}, {'_id': '9IUJNQdTxMk', 'channel_id': 'UCGaVdbSav8xWuFWTadK6loA', 'channel_name': 'vlogbrothers', 'title': 'RIP JD Salinger', 'description': \"In which John reads from the J. D. Salinger novel The Catcher in the Rye in tribute to Salinger, who died today at the age of 91. Having done so, I now immediately return to paternity leave. Like all novelists who write about teenagers, I owe an immense debt to Salinger--not only because of Holden Caulfield but also because of the hauntingly beautiful portraits of the Glass family.\\n\\nThank you all for your kind wishes for young Henry, who is made of awesome.\\n\\n\\nHERE ARE A LOT OF LINKS TO NERDFIGHTASTIC THINGS:\\n\\nShirts and Stuff: http://dftba.com/artist/30/Vlogbrothers\\nHank's Music: http://dftba.com/artist/15/Hank-Green\\nJohn's Books: http://amzn.to/j3LYqo\\n\\n======================\\n\\nHank's Twitter: http://www.twitter.com/hankgreen\\nHank's Facebook: http://www.facebook.com/hankimon\\nHank's tumblr: http://edwardspoonhands.tumblr.com\\n\\nJohn's Twitter: http://www.twitter.com/realjohngreen\\nJohn's Facebook: http://www.facebook.com/johngreenfans\\nJohn's tumblr: http://fishingboatproceeds.tumblr.com\\n\\n======================\\n\\nOther Channels\\nCrash Course: http://www.youtube.com/crashcourse\\nSciShow: http://www.youtube.com/scishow\\nGaming: http://www.youtube.com/hankgames\\nVidCon: http://www.youtube.com/vidcon\\nHank's Channel: http://www.youtube.com/hankschannel\\nTruth or Fail: http://www.youtube.com/truthorfail\\n\\n======================\\n\\nNerdfighteria\\nhttp://effyeahnerdfighters.com/\\nhttp://effyeahnerdfighters.com/nftumblrs\\nhttp://reddit.com/r/nerdfighters\\nhttp://nerdfighteria.info/\\n\\nA Bunny\\n(\\\\(\\\\\\n( - -)\\n((') (')\", 'thumbnail': 'https://i.ytimg.com/vi/9IUJNQdTxMk/maxresdefault.jpg', 'url': 'https://www.youtube.com/watch?v=9IUJNQdTxMk', 'transcript': \" you know what I'd like to be I mean if I had my goddamn Choice what stop swearing you know that song If a body catch a body coming through the Rye I'd like it's if a body meet a body coming through the Ry old Phoebe said it's a poem by Robert Burns I know it's a poem by Robert Burns she was right though it is ifab body meet a body coming through the Rye I didn't know it then though I thought it was ifab body catch a body I said anyway I keep picturing all these little kids playing some game in this big field of Ry and all thousands of little kids and nobody's around nobody big I mean except me and I'm standing on the edge of some crazy Cliff what I have to do I have to catch everybody if they start to go over the cliff I mean if they're running and they don't look where they're going I have to come out from somewhere and catch them that's all i' do all day I'd just be the catcher and the Ry and all I know it's crazy but that's the only thing I'd really like to be I know it's crazy it wasn't crazy and that's what you were for millions of us thank you you rest in peace\", 'upload_date': '2010-01-28T00:00:00Z'}, {'_id': 'Vc10LQCA5p4', 'channel_id': 'UCGaVdbSav8xWuFWTadK6loA', 'channel_name': 'vlogbrothers', 'title': 'I Gotta Go: Signing Off and Thinking about Inspiration', 'description': \"Ian Shoales Commentaries: College: https://www.youtube.com/watch?v=QGTDS1UMnVw and more recently talking about dualism: https://www.youtube.com/watch?v=0qSoB7W3Tgg\\nShoales also has a web site: http://www.ianshoales.com/\\n\\nIn which John discusses inspiration and how sometimes think you don't even remember can shape what you do and how you go about doing it. Along the way, he discusses Ian Shoales (aka Ian Schoales), a public radio commentator with whom Hank and John were obsessed. Also: John calls Hank and attempts to broadly define art. Furthermore: Husky voice.\\n\\nThe Art Assignment video in which we talk about the definition of art: https://www.youtube.com/watch?v=XUdABvOXVPw\", 'thumbnail': 'https://i.ytimg.com/vi/Vc10LQCA5p4/maxresdefault.jpg', 'url': 'https://www.youtube.com/watch?v=Vc10LQCA5p4', 'transcript': ' Good morning, Hank. It\\'s Tuesday. I got a little bit of the tiny chicken disease. Hence, the husky voice. So, I really loved your snow goose migration\\nvideo. I thought it was fresh and smart and really\\njust lovely, but I can\\'t help but notice that for the first time in, like, several years,\\nyou ended a video without saying, \"John, I\\'ll see you on Tuesday.\" Actually several nerdfighters noticed this,\\nand by several, I mean, these two people and myself. Anyway, leaving off the \"John, I\\'ll see you\\non Tuesday\" was definitely the correct artistic decision, but it still felt weird to me and\\nit made me wonder why we have a sign-off in the first place. Like, Ze Franck’s ‘The Show’ inspired\\nmost of the conventions of Vlogbrothers videos, right. Like the jump cuts, the ‘Good morning’\\netc. But Ze never had a consistent sign off, so\\nfor a while I was, like, reveling in our originality and creativity and then I remembered something\\nfrom the hazy distant past: ‘I gotta go’. Now to the vast majority of you that means\\nI have to go but in fact I think it will mean something else to Hank. As an experiment I’m gonna call him right\\nnow. (On phone) I’m gonna call you back in about\\ntwenty seconds. I’m gonna play you a short audio clip and\\nI want you to, uh, video tape yourself. OK, hold on. Audio clip: And now here’s Ian. Ian: I’m one of those guys who went to school\\nuntil I couldn’t get any more degrees. Young people today could probably benefit\\nfrom my twelve years in college so here’s some advice. Avoid any course called Colonial American\\nLiterature. You will read smug creeps like Benjamin Franklin,\\npsychotics like Edgar Allan Poe, half-smart mystics like Ralph Waldo Emerson and turgid\\npulp writers like James Fenimore Cooper, all of them dull. John: What I’m hoping for is I’m hoping\\nyou will remember the three word catchphrase of that guy. Hank: Is it \\'I gotta go\\'? John: YEAHHHH!!! It is \\'I gotta go\\'! Hank: I don’t even know where that came\\nfrom. John: Perfect. I’ll talk to you later. Hank: It’s deep, it’s deep in my brain\\nJohn. John: Alright, I gotta go. I gotta make, I gotta make a video. So Ian Shoales was this public radio commentator\\nand when Hank and I were kids our parents had his tape called ‘I Gotta Go’. How do I explain tapes to young people? They were kinda like Spotify only not free\\nand it only came with twelve tracks on it and it was literally made out of tape. It was very weird. Anyway Hank, when I was, like, fourteen and\\nyou were, like, eleven we listened to Ian Shoales constantly and we loved him because\\nhe was funny and he talked fast and he was smart without seeming snobbish or inaccessible,\\nand plus he never got boring because his commentaries were never more than four minutes long and\\nthey always ended with him saying ‘I gotta go’. I mean Hank, we listened to that tape hundreds\\nof times, the fact that you remember ‘I gotta go’ even though it’s been twenty\\nyears since you last heard Ian Shoales say those words, that says something. And we were clearly hugely influenced by Ian\\nShoales, not just because we have a sign off, but because everything he was doing in 1985\\nis stuff that we’re trying to do now. By the way Hank, it turns out that Ian Shoales\\nis a character created by a guy named Merle Kessler who is still doing theatre and radio\\nwork in northern California and who is still very funny. He’s still working, and his work is still\\nrippling outward, and, for me at least, that’s the definition of a successful creative life. In a recent episode of The Art Assignment\\na viewer asked Sarah what her definition of art was and she had this great answer about\\nbeing comfortable not having a definition. And then I, like, blathered on for a while\\nwithout saying anything. The thing is we tend to imagine creative enterprises\\nas, like, singular feats of genius, right. You know, James Joyce, half-blind holed up\\nin an apartment writing Ulysses or Beyoncé releasing a brilliant album without assistance\\nor warning. But even if you’re James Joyce or Beyoncé,\\nyour network of influence is vast and it stretches back further than human memory. In the Unites States it’s almost a national\\nobligation to praise individuals but in truth I don’t think individuals really make stuff\\nso much as they process their influences and try to build upon them in the hopes that they\\ncan make stuff that will be helpful to others. Contrary to the prevailing narrative, I don’t\\nthink art is really a story of great individuals trying to make their mark upon the world. It’s really lots of people working together\\nacross time and space trying to make the world suck less for ourselves and for each other. That’s my definition of art actually. You can find a link to a couple Ian Shoales\\ncommentaries in the dooblydoo. Mr. Shoales, I\\'m a little bit embarrassed\\nthat I’ve been making videos deeply inspired by you for the past seven and a half years\\nwithout knowing it, but belatedly, thank you. Hank, I gotta go. Alright Hank, while I have this husky voice\\nI’m just gonna try and sing Whitney Houston’s, uh, The Bodyguard song. Ready. This is just the refrain. ‘And I-ee-I will always love you-oooooo-ooo-oo’\\n(ooo barely audible and squeaky) Didn’t get there.', 'upload_date': '2014-03-25T00:00:00Z'}, {'_id': 'wA-voPuufao', 'channel_id': 'UCGaVdbSav8xWuFWTadK6loA', 'channel_name': 'vlogbrothers', 'title': 'Oh, JK Rowling - A Harry Potter Song', 'description': 'Every year around the time when Accio Deathly Hallows came out, I release another Harry Potter song. This song is that song! If you want to know more about the Harry Potter Alliance (HPA) go here: http://thehpalliance.org/ they are frikkin great.', 'thumbnail': 'https://i.ytimg.com/vi_webp/wA-voPuufao/maxresdefault.webp', 'url': 'https://www.youtube.com/watch?v=wA-voPuufao', 'transcript': \" Good morning, John. I've had a question sittin' up here for a little while and you know I got a lot of questions up there frankly I'm kind of a question-y kind of a guy, but this question has been sittin' up in the brain for YEARS, maybe like six or seven years now so I wanted to get it out. Out of my head in the form of a song, and share it with all of you. I goes like this: {strums guitar] Oh, JK Rowling, what're you doing with your time? Yeah, you're like givin' all your money to charity and I guess that sounds just fine, but I'm wondering if you've got just a couple more jots. Maybe, I dunno, you could crack a laptop. Oh, do it as a favor to me, do it for the kids, or do it for charity. Yeah, do it for the HPA (Harry Potter Alliance). Oh, I don't really care just to it today. I know that the idea probably stresses you out. I know that I would feel that way after making something so damn great. For me it would be an inescapable cloud of doubt. But don't let that fear get to you, this is clearly something you can do. And the pressure from people like me, does it get a little old? Yeah, probably, but hopefully you understand why I pry, so pick up your pen, Jo do it just give it a try. So, oh, JK Rowling, what're you doin' with your time? Givin' all your money to charity and I guess that sounds just fine, but I'm wondering if you've got just a couple more jots. Maybe, I dunno, you could crack a laptop. Oh, do it as a favor to me, do it for the kids, or do it for charity. Yeah, do it for the HPA. Oh, I don't really care just do it today. I'm givin' you absolute creative freedom. Maybe could write up a screenplay or a prequel musical for Broadway or collaborate on a comic with Joss Whedon. Or a mini-series for the BBC. Any of that sounds good to me I suggest you avoid cartoons or giving FOX a chance to cancel you, and after considering this one pretty carefully, please don't make an MMORPG (massively multiplayer online role playing game). 'Cause that would totally destroy my productivity! So, oh, JK Rowling, what're you doin' with your time? Givin' all you money to charity and I guess that sounds just fine, but I'm wonderin' if you got a couple more jots. Maybe, I dunno, you could crack a laptop. Oh, do it as a favor to me, do it for the kids, or do it for charity. Yeah, do it for the HPA. Oh, I don't really care just do it. No, I don't really care just do it. No, I don't really care just to it today! What did I knock over? Oh, it's just a bottle. Just a bottle. Just fell out of the garbage. I was dancin' a little bit. And now I'm gonna get on a plane to see John! [John:] Ayyyyyy! Glorious paternity leave! [Hank:] This is pretty good. [John:] It's about as good as it gets. [Hank:] Have you been doing this? Is this what you've been doing the whole time? [John:] There's been some staying up all night as well. But not in like the fun teenage way. Hank I'll see you on Friday. [Hank:] You'll see me right now. [John:] 'I know I just haven't said it in a long time. I was feelin', I was feelin' it. Good morning Hank it's Tuesday! *simultaneously* [John:} 'Yeah, I'm good. I still got it, I still got it! [Hank:] It's my video! How's Alice? [John:] 'Aw, she's great. She's beautiful. We love her. [Hank:] Good, you seem like pretty good parents, I'll be honest. [John:] Haha, well, we try hard. I wanna thank Nerdfighteria for all their good wishes and we appreciate it. Um, but yeah, we're just really enjoying being a family of four. [Hank:] Wooh! [John:] Yay! [Hank:] John, [John:] Yes? [Hank:] I'll see you right now. [John:] Alright. [Hank:] What just happened? [John:] Henry just laughed at a joke for the first time. [Hank:] What was he watching? [John:] Annoying Orange.\", 'upload_date': '2013-07-12T00:00:00Z'}, {'_id': 'FcifZrZ_yE4', 'channel_id': 'UCGaVdbSav8xWuFWTadK6loA', 'channel_name': 'vlogbrothers', 'title': 'On Cuties and Cooties', 'description': \"In which John discusses cooties, cuties, whales, Moby Dick, and fish while visiting an aquarium. He also talks about things that are both fun and hard without making a single that's what she said joke. \\n\\nHey, ARE YOU A SPORTSRACER? Ze Frank inspired us to start videoblogging, and in the best news ever, he is bringing his show back: http://www.kickstarter.com/projects/zefrank/a-show-with-ze-frank We can't wait!\\n\\n\\nHERE ARE A LOT OF LINKS TO NERDFIGHTASTIC THINGS:\\n\\nShirts and Stuff: http://dftba.com/artist/30/Vlogbrothers\\nHank's Music: http://dftba.com/artist/15/Hank-Green\\nJohn's Books: http://amzn.to/j3LYqo\\n\\n======================\\n\\nHank's Twitter: http://www.twitter.com/hankgreen\\nHank's Facebook: http://www.facebook.com/hankimon\\nHank's tumblr: http://edwardspoonhands.tumblr.com\\n\\nJohn's Twitter: http://www.twitter.com/realjohngreen\\nJohn's Facebook: http://www.facebook.com/johngreenfans\\nJohn's tumblr: http://fishingboatproceeds.tumblr.com\\n\\n======================\\n\\nOther Channels\\nCrash Course: http://www.youtube.com/crashcourse\\nSciShow: http://www.youtube.com/scishow\\nGaming: http://www.youtube.com/hankgames\\nVidCon: http://www.youtube.com/vidcon\\nHank's Channel: http://www.youtube.com/hankschannel\\nTruth or Fail: http://www.youtube.com/truthorfail\\n\\n======================\\n\\nNerdfighteria\\nhttp://effyeahnerdfighters.com/\\nhttp://effyeahnerdfighters.com/nftumblrs\\nhttp://reddit.com/r/nerdfighters\\nhttp://nerdfighteria.info/\\n\\nA Bunny\\n(\\\\(\\\\\\n( - -)\\n((') (')\", 'thumbnail': 'https://i.ytimg.com/vi/FcifZrZ_yE4/maxresdefault.jpg', 'url': 'https://www.youtube.com/watch?v=FcifZrZ_yE4', 'transcript': \" good morning hey it's Tuesday I'm in New Orleans your video on Friday contained so much cute that I was worried I might get Cute Overload A syndrome that can result in the acquisition of puppies or kittens or even in extreme cases the creation of human beings but fortunately I have had a cutie shot in the last 10 years side note HEK this gives me no pleasure to acknowledge but you're of course familiar with the childhood phenomenon of Cooties cies is a fictitious disease said to infect people who are generally and now I'm quoting Wikipedia perceived as being different or bearing some kind of social stigma it's not even a real disease all this was made worse by the fact that I have these birth marks which people ask about in every single freaking video so yes they are birth marks I'm am not a heroin addict I do not have some weird kind of fetish for hickeys on the forearm they're birth marks these birth marks were taken by my classmates as a sure sign that I had received some kind of failed cooties inoculation that resulted in permanent cooties infection but that is not the worst part of the story Hank the worst part of the story is that for the first couple years of Elementary School due to an extremely well-meaning teacher I believed that the kids were not saying I had cooties but that I had cuties essentially I believe that in the eyes of my classmates I was so cute that I could not be approached without a cuties shot which of course inevitably led to me like sauntering up to young ladies at the monkey bars or whatever and being like hey there have you had your cutie shot because if so perhaps you'd like to join me in the sandbox and then they would scream but Hank like Ahab and his great white whale throughout my school years I refused to stop pursuing popularity even after it became obvious that popularity if I ever got it which I wouldn't would destroy me heck there's of course nothing wrong with being popular but there is something wrong with sacrificing everything that matters to you in order to attain popularity by the way I think that's true whether you're talking about elementary school or YouTube or anything else as Melville's preacher puts it in Moby Dick woe to him whose good name is more to him than goodness by the way Hank in case it isn't obvious I've been reading Moby Dick speaking of which I have to go to the aquarium so Hank Moby Dick is not an easy book it contains lot of words I don't know it frequently runs off on tangents the structure of the sentences is very confusing to me at times and plus I'm not a very fast reader 3 days into my vacation I've only read about a 100 pages so it's not easy to Read Moby Dick but it is really fun like visiting the aquarium you get to go to sea without puking as you know Hank I hate the idea that when it comes to books and learning hard is often seen as the opposite of fun it's strange to me that we should be so quick to give up on a book or a math problem when we are so willing to Grapple for centuries if necessary with a single level of Angry Birds when I was a student why was I so willing to work hard much much too hard to make people like me and so unwilling to work hard to read great novels or comprehend the edgeless of the Universe I don't have an answer maybe I'll find one in comments or here at the aquarium or maybe I'll find an answer looking at Melville's great white wall of whale but in the meantime the search is a pleasure and a difficult one as most great Pleasures are are Hank I'll see you on Friday\", 'upload_date': '2012-02-28T00:00:00Z'}]\n"
     ]
    }
   ],
   "source": [
    "print(marqoDocs)"
   ]
  },
  {
   "cell_type": "code",
   "execution_count": 4,
   "metadata": {},
   "outputs": [],
   "source": [
    "mq = marqo.Client(url=\"http://localhost:8882\")"
   ]
  },
  {
   "cell_type": "code",
   "execution_count": 78,
   "metadata": {},
   "outputs": [],
   "source": [
    "index_settings = {\n",
    "    \"type\": \"structured\",\n",
    "    \"textPreprocessing\": {\n",
    "        \"splitLength\": 5,\n",
    "        \"splitOverlap\": 1,\n",
    "        \"splitMethod\": \"sentence\"\n",
    "    },\n",
    "    \"allFields\": [\n",
    "        {\"name\": \"title\", \"type\": \"text\"},\n",
    "        {\"name\": \"description\", \"type\": \"text\"},\n",
    "        {\"name\": \"transcript\", \"type\": \"text\"},\n",
    "        {\"name\": \"url\", \"type\": \"text\"},\n",
    "        {\"name\": \"channel_name\", \"type\": \"text\"},\n",
    "        {\"name\": \"channel_id\", \"type\": \"text\"},\n",
    "        {\"name\": \"thumbnail\", \"type\": \"text\"},\n",
    "        {\"name\": \"upload_date\", \"type\": \"text\"}\n",
    "    ],\n",
    "    \"tensorFields\": [\n",
    "        \"title\",\n",
    "        \"description\",\n",
    "        \"transcript\"\n",
    "    ]\n",
    "}"
   ]
  },
  {
   "cell_type": "code",
   "execution_count": 77,
   "metadata": {},
   "outputs": [
    {
     "data": {
      "text/plain": [
       "{'acknowledged': True}"
      ]
     },
     "execution_count": 77,
     "metadata": {},
     "output_type": "execute_result"
    }
   ],
   "source": [
    "#mq.index(\"vb-se-videos\").delete()"
   ]
  },
  {
   "cell_type": "code",
   "execution_count": 84,
   "metadata": {},
   "outputs": [
    {
     "name": "stdout",
     "output_type": "stream",
     "text": [
      "Index not found, creating index\n"
     ]
    }
   ],
   "source": [
    "try:\n",
    "    mq.get_index(\"vb-se-videos\")\n",
    "except marqo.errors.MarqoWebError as e:\n",
    "    if e.status_code == 404:\n",
    "        print(\"Index not found, creating index\")\n",
    "        mq.create_index(\"vb-se-videos\", settings_dict=index_settings)"
   ]
  },
  {
   "cell_type": "code",
   "execution_count": 85,
   "metadata": {},
   "outputs": [
    {
     "data": {
      "text/plain": [
       "{'errors': False,\n",
       " 'processingTimeMs': 579533.0824310004,\n",
       " 'index_name': 'vb-se-videos',\n",
       " 'items': [{'status': 200, '_id': 'rBvUtY0PfB8'},\n",
       "  {'status': 200, '_id': 'yWtPeHIPHmA'},\n",
       "  {'status': 200, '_id': 'OBHE6DUoV2w'},\n",
       "  {'status': 200, '_id': 'i4eJZhbsVDo'},\n",
       "  {'status': 200, '_id': 'tnREQ-YDvQQ'},\n",
       "  {'status': 200, '_id': 'hhYDaR4lbH8'},\n",
       "  {'status': 200, '_id': '9IUJNQdTxMk'},\n",
       "  {'status': 200, '_id': 'Vc10LQCA5p4'},\n",
       "  {'status': 200, '_id': 'wA-voPuufao'},\n",
       "  {'status': 200, '_id': 'FcifZrZ_yE4'},\n",
       "  {'status': 200, '_id': '3meQ-1OAoAU'},\n",
       "  {'status': 200, '_id': '33v9AM3uASY'},\n",
       "  {'status': 200, '_id': 'f4hqWfp3374'},\n",
       "  {'status': 200, '_id': 'BszbfE4z09U'},\n",
       "  {'status': 200, '_id': 'pNfFETmGoZU'},\n",
       "  {'status': 200, '_id': 'x8tVoriImK8'},\n",
       "  {'status': 200, '_id': 'XwuO7RVJvOU'},\n",
       "  {'status': 200, '_id': 'WRyTbJ8g7dI'},\n",
       "  {'status': 200, '_id': 'SYtVAhpkUg0'},\n",
       "  {'status': 200, '_id': 'AO301gSBONE'},\n",
       "  {'status': 200, '_id': 'yA7W1MmQH58'},\n",
       "  {'status': 200, '_id': '_hgeaIJMOlg'},\n",
       "  {'status': 200, '_id': 'N2X1gA5apcU'},\n",
       "  {'status': 200, '_id': 'TUF9qkQBNB8'},\n",
       "  {'status': 200, '_id': 'qlu0oeO0Wok'},\n",
       "  {'status': 200, '_id': 'sOw0jvsOPNg'},\n",
       "  {'status': 200, '_id': 'Q95Ii30naQ4'},\n",
       "  {'status': 200, '_id': 'AlamW0EEjbU'},\n",
       "  {'status': 200, '_id': 'A9xFCV-fjZ4'},\n",
       "  {'status': 200, '_id': 'vtzCSlNg38Q'},\n",
       "  {'status': 200, '_id': '_pqkpfckjO0'},\n",
       "  {'status': 200, '_id': 'rQ_JnlpzM6M'},\n",
       "  {'status': 200, '_id': '2lisqjq0-YE'},\n",
       "  {'status': 200, '_id': '7LMV745i0s8'},\n",
       "  {'status': 200, '_id': 'X5bkge-w2og'},\n",
       "  {'status': 200, '_id': 'kwyZlcd7Ooc'},\n",
       "  {'status': 200, '_id': 'oVvPfq0MoaQ'},\n",
       "  {'status': 200, '_id': 'NVCJUHrhums'},\n",
       "  {'status': 200, '_id': '_nqmQ9YAtD8'},\n",
       "  {'status': 200, '_id': '5QM41ht1aHg'},\n",
       "  {'status': 200, '_id': '90ureF8xO9Y'},\n",
       "  {'status': 200, '_id': 'iUIepvay1qg'},\n",
       "  {'status': 200, '_id': 'Jjz3lGV6Tuw'},\n",
       "  {'status': 200, '_id': 'Br9EAmr2oNQ'},\n",
       "  {'status': 200, '_id': '1Mxi2DvIvZs'},\n",
       "  {'status': 200, '_id': 'SRPs-I2FuCY'},\n",
       "  {'status': 200, '_id': 'LK0WBtTucL0'},\n",
       "  {'status': 200, '_id': '2KDmXQDd1S4'},\n",
       "  {'status': 200, '_id': 'zcwkOFSrLFI'},\n",
       "  {'status': 200, '_id': '5SpsnjF1VFg'},\n",
       "  {'status': 200, '_id': 'KTjC4n85ajw'},\n",
       "  {'status': 200, '_id': 'uKj6PxBCdpM'},\n",
       "  {'status': 200, '_id': 'xM3_ltur0lo'},\n",
       "  {'status': 200, '_id': 'PkoBoF9FDXg'},\n",
       "  {'status': 200, '_id': 'capBdfEqkdM'},\n",
       "  {'status': 200, '_id': 'YfPwGf6jC80'},\n",
       "  {'status': 200, '_id': '_86jrQV5FCI'},\n",
       "  {'status': 200, '_id': 'nIvrDsnKuQ8'},\n",
       "  {'status': 200, '_id': 'n4-EAiNewsQ'},\n",
       "  {'status': 200, '_id': 'V6Lz97pkIBc'},\n",
       "  {'status': 200, '_id': 'nkVQrNQvL5c'},\n",
       "  {'status': 200, '_id': '0tIErW4tybM'},\n",
       "  {'status': 200, '_id': 'l4-kItwN71c'},\n",
       "  {'status': 200, '_id': 'M-24RP_-X-U'},\n",
       "  {'status': 200, '_id': 'eBPAJERpn6Q'},\n",
       "  {'status': 200, '_id': 'QghbHQq6eHw'},\n",
       "  {'status': 200, '_id': 'oAEewFj_-dg'},\n",
       "  {'status': 200, '_id': '91jkq2_jdOA'},\n",
       "  {'status': 200, '_id': '9NKqkQQ_qAc'},\n",
       "  {'status': 200, '_id': '7kRDYwtE10Y'},\n",
       "  {'status': 200, '_id': 'oVdypPMx2m0'},\n",
       "  {'status': 200, '_id': 'M5oYZLJj7mo'},\n",
       "  {'status': 200, '_id': 'fQFzT3Nn91I'},\n",
       "  {'status': 200, '_id': 'WTarddlL5UU'},\n",
       "  {'status': 200, '_id': '-_xq-JdBNak'},\n",
       "  {'status': 200, '_id': 'sNS3o1Hpa78'},\n",
       "  {'status': 200, '_id': 'tMhgw5SW0h4'},\n",
       "  {'status': 200, '_id': '1dRgCsZ1q7g'},\n",
       "  {'status': 200, '_id': 'RN68qKBttgQ'},\n",
       "  {'status': 200, '_id': 'e02dl7NcxQI'},\n",
       "  {'status': 200, '_id': '7dbUJYUWdS8'},\n",
       "  {'status': 200, '_id': 'b_EqEGc0S60'},\n",
       "  {'status': 200, '_id': '7j2fXWfElZA'},\n",
       "  {'status': 200, '_id': 'jQZliRwZMeE'},\n",
       "  {'status': 200, '_id': 'zxErbW0hM2M'},\n",
       "  {'status': 200, '_id': '_f9Rkdg7BR8'},\n",
       "  {'status': 200, '_id': 'BL829Uf2lzI'},\n",
       "  {'status': 200, '_id': 'VT6rGBynkt4'},\n",
       "  {'status': 200, '_id': 'v6vNYWgUAMY'},\n",
       "  {'status': 200, '_id': 'kqPKNksl9hk'},\n",
       "  {'status': 200, '_id': 'wCBLmhh2qPE'},\n",
       "  {'status': 200, '_id': 'DmzaZBAaqJw'},\n",
       "  {'status': 200, '_id': 'd9WzC2baIW4'},\n",
       "  {'status': 200, '_id': 'UOWTeQiaFv0'},\n",
       "  {'status': 200, '_id': '3ONEWpcTUQc'},\n",
       "  {'status': 200, '_id': 'T-Xdobl0ICA'},\n",
       "  {'status': 200, '_id': 'haaETX4XQeA'},\n",
       "  {'status': 200, '_id': 'NPjFnQRgDDE'},\n",
       "  {'status': 200, '_id': 'VZjk28k0n0o'},\n",
       "  {'status': 200, '_id': 'MLBYtwu0gkY'}]}"
      ]
     },
     "execution_count": 85,
     "metadata": {},
     "output_type": "execute_result"
    }
   ],
   "source": [
    "mq.index(\"vb-se-videos\").add_documents(marqoDocs)"
   ]
  },
  {
   "cell_type": "code",
   "execution_count": 93,
   "metadata": {},
   "outputs": [],
   "source": [
    "res2 = mq.index(\"vb-se-videos\").search(q='Helping people who are sick')"
   ]
  },
  {
   "cell_type": "code",
   "execution_count": 94,
   "metadata": {},
   "outputs": [
    {
     "data": {
      "text/plain": [
       "{'_id': 'A9xFCV-fjZ4',\n",
       " 'title': 'Helping Haiti',\n",
       " 'description': \"http://my.water.org/vlogbrothers\\n\\nFollow Savann Tabak and donate!\\n\\nLisa's Video: http://www.youtube.com/watch?v=eF6JCrthHR0\\n\\nTim's Video: http://www.youtube.com/watch?v=H5PC4nQ9EGQ\\n\\nMy pictures from Haiti: http://www.flickr.com/evst\\n\\nSeattle Show SOLD OUT\\nPortland Show 3/25: Tickets here: http://bit.ly/iaxnd2\\n\\nThanks to Erin, Laura, Neil and everyone else who made it possible to tell this story. I'm looking forward to telling more soon.\\n\\n\\nHERE ARE A LOT OF LINKS TO NERDFIGHTASTIC THINGS:\\n\\nShirts and Stuff: http://dftba.com/artist/30/Vlogbrothers\\nHank's Music: http://dftba.com/artist/15/Hank-Green\\nJohn's Books: http://amzn.to/j3LYqo\\n\\n======================\\n\\nHank's Twitter: http://www.twitter.com/hankgreen\\nHank's Facebook: http://www.facebook.com/hankimon\\nHank's tumblr: http://edwardspoonhands.tumblr.com\\n\\nJohn's Twitter: http://www.twitter.com/realjohngreen\\nJohn's Facebook: http://www.facebook.com/johngreenfans\\nJohn's tumblr: http://fishingboatproceeds.tumblr.com\\n\\n======================\\n\\nOther Channels\\nCrash Course: http://www.youtube.com/crashcourse\\nSciShow: http://www.youtube.com/scishow\\nGaming: http://www.youtube.com/hankgames\\nVidCon: http://www.youtube.com/vidcon\\nHank's Channel: http://www.youtube.com/hankschannel\\nTruth or Fail: http://www.youtube.com/truthorfail\\n\\n======================\\n\\nNerdfighteria\\nhttp://effyeahnerdfighters.com/\\nhttp://effyeahnerdfighters.com/nftumblrs\\nhttp://reddit.com/r/nerdfighters\\nhttp://nerdfighteria.info/\\n\\nA Bunny\\n(\\\\(\\\\\\n( - -)\\n((') (')\",\n",
       " 'transcript': \" Good morning John. This morning I woke up,\\nused some water, then I used some more water, then I used some water, and used some more\\nwater again. If you walk around my house and jostle enough silver things, there's a really\\ngood chance that clean, safe, delicious, cold or hot water will start leaking out of somewhere. This is a nickel. If I see a nickel on the\\nsidewalk, there is a fairly good chance that I won't even stop to pick it up. All the water\\nthat I used this morning cost me about one nickel. March 22nd is World Water Day; John,\\nI think that we should take a moment to think about how freaking awesome our lives are. Last week, I woke up in Miami. I got on a\\nplane, landed in Port-au-Prince, then I got on another much smaller, much bumpier, much\\nscarier plane and then landed in a place called Pignon, a place of about twenty thousand people\\nin central Haiti. I went to Pignon with Water.org to meet the people who live there and find\\nout how those people live their lives. The morning after arriving in Haiti, I rode\\nin the back of a truck to Savann Tabak, a village of about sixty households. The people\\nof Savann Tabak got one of Water.org's carefully selected local partners involved by sending\\na letter to the mayor of Pignon explaining their situation. These people are the well committee; they\\nare the people who, in a perfect world, wrote the letter together expressing an interest\\nto have some organization come in and help them build a well. Two of these guys, Gloolinot\\nhere and Botes on the other end, clearly were the guys who actually wrote the letter. The\\nrest of the people were wrangled by Water.org's requirement to have a broader coalition be\\nformed. This coalition is necessary because otherwise Botes and Gloolinot could just say\\nthat they're the ones who brought the well to the community and that everyone owes them\\na gigantic debt of gratitude, and in the worst case scenario, they could actually start selling\\nwater for their own personal profit. These guys actually seemed a little bit frustrated\\nwith the process. They seemed to think that Water.org should just come and drill the well\\nand leave them alone and not change the way any of the stuff is working. But since Water.org\\nrequires this committee to be formed, a committee with people from different genders, different\\nreligions, different neighborhoods, different families, the well becomes an asset of the\\ncommunity, not of one church or of one family. This woman, Ulna, obviously has seen a lot\\nand wasn't takin' no lip from no one. I wouldn't want her as a second grade teacher, but I\\nwould be happy having her represent me in local government. Isaiid, the old guy at the end here, he was\\ncracking jokes the whole time, trying to make everybody feel more at ease, and he was obviously\\na very well-respected member of the community. Jan Baptiste was the woman in the middle who\\nI didn't catch while she was standing up - she was a quiet woman, but she was obviously there\\nfor her kids. She was very frustrated by the fact that her kids had been sick and that\\nthey spent more time fetching water than they did at school. Genna, this girl in the awesome hat, the youngest\\nmember of the well committee, was probably the most frustrated of everyone. She knew\\nthat there had to be a better way, but she wasn't interested at all in begging. She was\\njust fed up with the situation and hadn't yet reached an age where she thought that\\nit was intractable. She thought that there was a solution, and she was really ready for\\nthat solution. She seemed really able to step outside of the situation and be able to critique\\nit in a way that was humorous, not overly critical. I just said that she could critique\\nit without being critical. That is how awesome she was. These are the people of the Savann Tabak well\\ncommittee, and this is mostly what I wanted to do today. I just wanted to introduce you\\nto them. And now what I want you to do is go to my.water.org/vlogbrothers and you can\\nfollow this community as they meet their milestones. Water.org has a very specific outline of what\\nneeds to happen for a community to come together and create a sustainable water project. Not\\njust something that will help them for the next six months, but something that will really\\nredefine their community. I learned a lot of things in Haiti, one of\\nthe most important was that not all non-profit organizations are created equal. And now myself,\\nhaving done the due diligence and seeing the way that Water.org operates, I’m very comfortable\\nasking you to donate money to Water.org. The people of Savann Tabak have a lot of hard\\nwork to do before they can have a sustainable source of water in their community, but we\\ncan do our part as well, following them on that journey and helping them through that\\njourney. There is no amount that is too great or small, we’re just helping people get\\nout of a situation that sucks. Thanks to Water.org and Haiti Outreach and\\nall the amazing people who were able to help me bring this story onto the YouTube-sized\\nscreen, whatever sized screen this is. And if you want to check out more videos from\\nHaiti, Lisa Nova and Timothy DeLaGhetto were there with me; you should check out their\\nchannels; they just made videos about Haiti as well. John, I’ll see you on Wednesday.\",\n",
       " 'url': 'https://www.youtube.com/watch?v=A9xFCV-fjZ4',\n",
       " 'channel_name': 'vlogbrothers',\n",
       " 'channel_id': 'UCGaVdbSav8xWuFWTadK6loA',\n",
       " 'thumbnail': 'https://i.ytimg.com/vi/A9xFCV-fjZ4/hqdefault.jpg',\n",
       " 'upload_date': '2011-03-22T00:00:00Z',\n",
       " '_highlights': [{'title': 'Helping Haiti'}],\n",
       " '_score': 0.8656901250717164}"
      ]
     },
     "execution_count": 94,
     "metadata": {},
     "output_type": "execute_result"
    }
   ],
   "source": [
    "res2[\"hits\"][0]"
   ]
  },
  {
   "cell_type": "code",
   "execution_count": 10,
   "metadata": {},
   "outputs": [],
   "source": [
    "import json"
   ]
  },
  {
   "cell_type": "code",
   "execution_count": null,
   "metadata": {},
   "outputs": [],
   "source": [
    "json.loads(\"[UCGaVdbSav8xWuFWTadK6loA]\")"
   ]
  }
 ],
 "metadata": {
  "kernelspec": {
   "display_name": "Python 3",
   "language": "python",
   "name": "python3"
  },
  "language_info": {
   "codemirror_mode": {
    "name": "ipython",
    "version": 3
   },
   "file_extension": ".py",
   "mimetype": "text/x-python",
   "name": "python",
   "nbconvert_exporter": "python",
   "pygments_lexer": "ipython3",
   "version": "3.12.3"
  }
 },
 "nbformat": 4,
 "nbformat_minor": 2
}
